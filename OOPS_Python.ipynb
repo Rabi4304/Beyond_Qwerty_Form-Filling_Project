{
  "nbformat": 4,
  "nbformat_minor": 0,
  "metadata": {
    "colab": {
      "provenance": []
    },
    "kernelspec": {
      "name": "python3",
      "display_name": "Python 3"
    },
    "language_info": {
      "name": "python"
    }
  },
  "cells": [
    {
      "cell_type": "markdown",
      "source": [
        "**Object-Oriented Programming:**\n",
        "\n",
        "Object-oriented programming (OOP) is a programming paradigm based on the concept of \"objects\", which can contain data and code:\n",
        "*   data in the form of fields (often known as attributes or properties) and,\n",
        "*   code in the form of procedures (often known as methods or behaviors )."
      ],
      "metadata": {
        "id": "tGfKKSfZgFRH"
      }
    },
    {
      "cell_type": "markdown",
      "source": [
        "**Class:**\n",
        "\n",
        "A class is an extensible program-code-template for creating objects, providing initial values for state (member variables) and implementations of behavior (member functions or methods).\n",
        "Unlike the primitive data structures, Classes are the data structures that users define."
      ],
      "metadata": {
        "id": "fQHeIRPQgWaZ"
      }
    },
    {
      "cell_type": "code",
      "source": [
        "class Calculator:\n",
        "    def __init__(self):\n",
        "        print(\"Hi, Ready to solve?\")"
      ],
      "metadata": {
        "id": "fqLne1iVgzua"
      },
      "execution_count": null,
      "outputs": []
    },
    {
      "cell_type": "markdown",
      "source": [
        "Object:\n",
        "\n",
        "An object is a particular instance of a class."
      ],
      "metadata": {
        "id": "iDdDkDtng0eA"
      }
    },
    {
      "cell_type": "code",
      "source": [
        "cal_obj = Calculator()"
      ],
      "metadata": {
        "id": "rHLFNUz7g4V6"
      },
      "execution_count": null,
      "outputs": []
    },
    {
      "cell_type": "markdown",
      "source": [
        "Inheritance:\n",
        "\n",
        "Inheritance is the procedure in which one class inherits the attributes and methods of another class.\n",
        "The class whose properties and methods are inherited is known as Parent(Super or Base) class . The class that inherits the properties from the parent class is known as Child(Sub or Derived) class.\n",
        "Along with the inherited properties and methods, a child class can have its own properties and methods."
      ],
      "metadata": {
        "id": "nZHw2WYyhBm2"
      }
    },
    {
      "cell_type": "code",
      "source": [
        "class Sum(Calculator):\n",
        "    def sum(self,a,b):\n",
        "        return (a+b)"
      ],
      "metadata": {
        "id": "og0_tD7YhEEX"
      },
      "execution_count": null,
      "outputs": []
    },
    {
      "cell_type": "code",
      "source": [
        "sum_obj = Sum()"
      ],
      "metadata": {
        "id": "HHDovuA2hK0e"
      },
      "execution_count": null,
      "outputs": []
    },
    {
      "cell_type": "code",
      "source": [
        "sum_obj.sum(2,3)"
      ],
      "metadata": {
        "id": "HkqTccj5hNWd"
      },
      "execution_count": null,
      "outputs": []
    },
    {
      "cell_type": "markdown",
      "source": [
        "Polymorphism:\n",
        "\n",
        "Polymorphism means having many forms i.e, one thing can take different forms.\n",
        "In OOP, it refers to the functions having the same names but carrying different functionalities.\n",
        "\n",
        "Ways of Implementing Polymorphism:\n",
        "*   Duck Typing\n",
        "*   Operator Overloading\n",
        "*   Method Overloading\n",
        "*   Method Overriding"
      ],
      "metadata": {
        "id": "MC85Q6vqhT5S"
      }
    },
    {
      "cell_type": "code",
      "source": [
        "class Duck():\n",
        "    def fly(self):\n",
        "        print(\"Duck flying\")\n",
        "\n",
        "class Sparrow:\n",
        "    def fly(self):\n",
        "        print(\"Sparrow flying\")"
      ],
      "metadata": {
        "id": "Q6YMdhX9hn8T"
      },
      "execution_count": null,
      "outputs": []
    },
    {
      "cell_type": "code",
      "source": [
        "duck = Duck()\n",
        "duck.fly()"
      ],
      "metadata": {
        "id": "g8kuwjEzhoxO"
      },
      "execution_count": null,
      "outputs": []
    },
    {
      "cell_type": "code",
      "source": [
        "sparrow = Sparrow()\n",
        "sparrow.fly()"
      ],
      "metadata": {
        "id": "spfMjW_QhrCm"
      },
      "execution_count": null,
      "outputs": []
    },
    {
      "cell_type": "markdown",
      "source": [
        "Encapsulation:\n",
        "\n",
        "Encapsulation refers to hiding variables or some implementation that may be changed so often in a class to prevent outsiders access it directly.\n",
        "They must access it via getter and setter methods."
      ],
      "metadata": {
        "id": "R2pFpfS2hvnI"
      }
    },
    {
      "cell_type": "code",
      "source": [
        "class Account:\n",
        "\n",
        "    def __init__(self,bank,ifsc):\n",
        "        self.Bank = bank\n",
        "        self.__IFSC = ifsc      # private variable\n",
        "\n",
        "    def description(self):\n",
        "        return (f\"{self.Bank},{self.__IFSC}\")\n",
        "\n",
        "\n",
        "obj = Account(\"PNB\",123986)\n",
        "\n",
        "\n",
        "print(obj.description())"
      ],
      "metadata": {
        "id": "lRagCXMShz09"
      },
      "execution_count": null,
      "outputs": []
    },
    {
      "cell_type": "code",
      "source": [
        "print(obj.__IFSC) #accessing private variable directly gives error"
      ],
      "metadata": {
        "id": "Lr3t40Ach39d"
      },
      "execution_count": null,
      "outputs": []
    },
    {
      "cell_type": "markdown",
      "source": [
        "Abstraction:\n",
        "\n",
        "Abstraction refers to hiding the internal details or implementations of a function and showing its functionalities only.\n",
        "This is similar to the way we know how to turn ON or OFF a light using a switch but we do not care about what is happening behind the socket."
      ],
      "metadata": {
        "id": "yQPUgr3Rh87e"
      }
    },
    {
      "cell_type": "code",
      "source": [
        "from abc import ABC, abstractmethod\n",
        "class Atm(ABC) :\n",
        "    def __init__(self,name,acc_no):\n",
        "        self.holder = name\n",
        "        self.acc_no = acc_no\n",
        "    @abstractmethod\n",
        "    def validate(self,pin):\n",
        "        pass"
      ],
      "metadata": {
        "id": "lZlFlL2_h4rX"
      },
      "execution_count": null,
      "outputs": []
    },
    {
      "cell_type": "code",
      "source": [
        "class user(Atm):\n",
        "    def validate(self,pin):\n",
        "        if pin == 13031999 :\n",
        "            return \"Correct\"\n",
        "        else :\n",
        "            return \"Try again with correct PIN\""
      ],
      "metadata": {
        "id": "nmaA4sXViA3f"
      },
      "execution_count": null,
      "outputs": []
    },
    {
      "cell_type": "code",
      "source": [
        "obj = user(\"Vishakha\",9852)\n",
        "obj.validate(67)"
      ],
      "metadata": {
        "id": "CG5581quiGf7"
      },
      "execution_count": null,
      "outputs": []
    },
    {
      "cell_type": "code",
      "source": [
        "obj.validate(13031999)"
      ],
      "metadata": {
        "id": "ZLumdTiriIkt"
      },
      "execution_count": null,
      "outputs": []
    }
  ]
}